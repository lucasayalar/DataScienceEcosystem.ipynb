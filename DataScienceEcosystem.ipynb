{
 "cells": [
  {
   "cell_type": "markdown",
   "id": "c3c50701-8081-433c-ad53-7dd0c3e65d49",
   "metadata": {
    "tags": []
   },
   "source": [
    "# Data Science Tools and Ecosystem"
   ]
  },
  {
   "cell_type": "markdown",
   "id": "ee6fb2d7-3953-4618-b2ae-a0942ffed5b0",
   "metadata": {},
   "source": [
    "In this notebook, Data Science Tools and Ecosystem are summarized."
   ]
  },
  {
   "cell_type": "markdown",
   "id": "0df77f51-0457-4b2f-85d0-50811de7448b",
   "metadata": {},
   "source": [
    "***Objectives:***\n",
    "* List Popular Languages for Data Science.\n",
    "* List Libraries used by Data Scientists.\n",
    "* List of Data Science Tools.\n",
    "* Examples of evaluating arithmetic expressions in Python."
   ]
  },
  {
   "cell_type": "markdown",
   "id": "07ca10bd-a953-407b-9ee9-bcbef0e62ddd",
   "metadata": {},
   "source": [
    "Someone of the popular languages that Data Scientistic use are:\n",
    "1. Python\n",
    "2. R\n",
    "3. SQL\n",
    "4. Julia"
   ]
  },
  {
   "cell_type": "markdown",
   "id": "94764035-549e-40f7-b0dc-7f774d6931fa",
   "metadata": {},
   "source": [
    "Some of the commonly used libraries used by Data Scientists Include:\n",
    "1. NumPy\n",
    "2. Pandas\n",
    "3. TensorFlow"
   ]
  },
  {
   "cell_type": "markdown",
   "id": "f4c609e6-9124-4316-8232-6c1565050d12",
   "metadata": {},
   "source": [
    "|**Data Science Tools**|\n",
    "|--------------------|\n",
    "|Jupyter Notebooks|\n",
    "|R-Studio|\n",
    "|Apache Spark|"
   ]
  },
  {
   "cell_type": "markdown",
   "id": "0fec34d7-3a51-4072-bc6b-3a1b89f4b432",
   "metadata": {},
   "source": [
    "### Below are a few examples of evaluating arithmetic expressions in Python.\n"
   ]
  },
  {
   "cell_type": "code",
   "execution_count": 1,
   "id": "8553b59d-5e37-4619-8cb2-061be92aaa94",
   "metadata": {
    "tags": []
   },
   "outputs": [
    {
     "name": "stdout",
     "output_type": "stream",
     "text": [
      "17\n"
     ]
    }
   ],
   "source": [
    "# This is a simple arithmetic expression to multiply then add integers.\n",
    "result = (3 * 4) + 5\n",
    "print(result)"
   ]
  },
  {
   "cell_type": "code",
   "execution_count": 2,
   "id": "5dcd5512-0d1f-465d-a1b8-f3433b1392ed",
   "metadata": {
    "tags": []
   },
   "outputs": [
    {
     "name": "stdout",
     "output_type": "stream",
     "text": [
      "3.3333333333333335\n"
     ]
    }
   ],
   "source": [
    "# This will convert 200 minutes to hours by dividing by 60\n",
    "minutes = 200\n",
    "hours = minutes/60\n",
    "print(hours)"
   ]
  },
  {
   "cell_type": "markdown",
   "id": "332d36dc-212f-4006-a034-aa6eaadbb87d",
   "metadata": {},
   "source": [
    "## Author\n",
    "Lucas Ayala"
   ]
  },
  {
   "cell_type": "code",
   "execution_count": null,
   "id": "0e197848-2826-4b81-ba16-4ae609564bbf",
   "metadata": {},
   "outputs": [],
   "source": []
  }
 ],
 "metadata": {
  "kernelspec": {
   "display_name": "Python",
   "language": "python",
   "name": "conda-env-python-py"
  },
  "language_info": {
   "codemirror_mode": {
    "name": "ipython",
    "version": 3
   },
   "file_extension": ".py",
   "mimetype": "text/x-python",
   "name": "python",
   "nbconvert_exporter": "python",
   "pygments_lexer": "ipython3",
   "version": "3.7.12"
  }
 },
 "nbformat": 4,
 "nbformat_minor": 5
}
